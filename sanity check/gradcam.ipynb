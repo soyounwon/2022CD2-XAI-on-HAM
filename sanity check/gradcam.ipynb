{
  "cells": [
    {
      "cell_type": "markdown",
      "metadata": {
        "id": "ZHmj8Ej8Ypvp"
      },
      "source": [
        "\n",
        "모듈 https://github.com/jacobgil/pytorch-grad-cam"
      ]
    },
    {
      "cell_type": "code",
      "execution_count": null,
      "metadata": {
        "id": "80u2nRLscbsX"
      },
      "outputs": [],
      "source": [
        "# pip install grad-cam"
      ]
    },
    {
      "cell_type": "code",
      "execution_count": null,
      "metadata": {
        "id": "ld7nNuo5cO17"
      },
      "outputs": [],
      "source": [
        "import argparse\n",
        "import cv2\n",
        "import numpy as np\n",
        "import torch\n",
        "from torchvision import models\n",
        "from pytorch_grad_cam import GradCAM, \\\n",
        "from pytorch_grad_cam import GuidedBackpropReLUModel\n",
        "from pytorch_grad_cam.utils.image import show_cam_on_image, \\\n",
        "    deprocess_image, \\\n",
        "    preprocess_image\n",
        "from pytorch_grad_cam.utils.model_targets import ClassifierOutputTarget\n",
        "from visualize import *\n",
        "from torchvision.transforms import ToTensor\n",
        "import matplotlib.pyplot as plt\n",
        "from PIL import Image"
      ]
    },
    {
      "cell_type": "code",
      "execution_count": null,
      "metadata": {
        "id": "C0BXFkMCkZl9"
      },
      "outputs": [],
      "source": [
        "def get_args():\n",
        "    parser = argparse.ArgumentParser()\n",
        "    parser.add_argument('--use-cuda', action='store_true', default=False,\n",
        "                        help='Use NVIDIA GPU acceleration')\n",
        "    parser.add_argument(\n",
        "        '--image-path',\n",
        "        type=str,\n",
        "        default=[]\n",
        "\n",
        "        ,\n",
        "        help='Input image path')\n",
        "    parser.add_argument('--aug_smooth', action='store_true',\n",
        "                        help='Apply test time augmentation to smooth the CAM')\n",
        "    parser.add_argument(\n",
        "        '--eigen_smooth',\n",
        "        action='store_true',\n",
        "        help='Reduce noise by taking the first principle componenet'\n",
        "        'of cam_weights*activations')\n",
        "    parser.add_argument('--method', type=str, default='gradcam',\n",
        "                        choices=['gradcam', 'gradcam++',\n",
        "                                 'scorecam', 'xgradcam',\n",
        "                                 'ablationcam', 'eigencam',\n",
        "                                 'eigengradcam', 'layercam', 'fullgrad'],\n",
        "                        help='Can be gradcam/gradcam++/scorecam/xgradcam'\n",
        "                             '/ablationcam/eigencam/eigengradcam/layercam')\n",
        "\n",
        "    args = parser.parse_args(args=[])\n",
        "    args.use_cuda = args.use_cuda and torch.cuda.is_available()\n",
        "    if args.use_cuda:\n",
        "        print('Using GPU for acceleration')\n",
        "    else:\n",
        "        print('Using CPU for computation')\n",
        "\n",
        "    return args"
      ]
    },
    {
      "cell_type": "code",
      "execution_count": null,
      "metadata": {
        "colab": {
          "base_uri": "https://localhost:8080/"
        },
        "id": "upQRl_x4cVow",
        "outputId": "d916f353-a750-4965-feb5-47e1d6733f40"
      },
      "outputs": [
        {
          "output_type": "stream",
          "name": "stdout",
          "text": [
            "Using CPU for computation\n"
          ]
        }
      ],
      "source": [
        "args = get_args()\n",
        "methods = {\"gradcam\": GradCAM,\n",
        "         \"scorecam\": ScoreCAM,\n",
        "         \"gradcam++\": GradCAMPlusPlus,\n",
        "         \"ablationcam\": AblationCAM,\n",
        "         \"xgradcam\": XGradCAM,\n",
        "         \"eigencam\": EigenCAM,\n",
        "         \"eigengradcam\": EigenGradCAM,\n",
        "         \"layercam\": LayerCAM,\n",
        "         \"fullgrad\": FullGrad}"
      ]
    },
    {
      "cell_type": "code",
      "source": [
        "targets = [[ClassifierOutputTarget()]]\n",
        "untrained = models.vgg16(pretrained=False) # has random weights\n",
        "features_ls = [30, 28,26,24,21,19,17,14,12,10,7,5,2,0]\n",
        "\n",
        "for i, path in enumerate(args.image_path):\n",
        "  img = cv2.imread(path)\n",
        "\n",
        "  tts = ToTensor()\n",
        "  input_tensor = tts(img).unsqueeze(0)\n",
        "\n",
        "  trained = models.vgg16(pretrained=True)\n",
        "  target_layers = [trained.features[29]]  ## for vgg16\n",
        "\n",
        "  for layer in features_ls: \n",
        "    if layer == 28:\n",
        "      model.classifier = untrained.classifier\n",
        "    if layer < 30:\n",
        "      trained.features[layer] = untrained.features[layer]    \n",
        "\n",
        "    cam_algorithm = methods[args.method]\n",
        "    with cam_algorithm(model=trained,\n",
        "                      target_layers=target_layers,\n",
        "                      use_cuda=args.use_cuda) as cam:\n",
        "\n",
        "      # AblationCAM and ScoreCAM have batched implementations.\n",
        "      # You can override the internal batch size for faster computation.\n",
        "      cam.batch_size = 32\n",
        "      grayscale_cam = cam(input_tensor=input_tensor,\n",
        "                          targets=targets[i],\n",
        "                          aug_smooth=args.aug_smooth,\n",
        "                          eigen_smooth=args.eigen_smooth)\n",
        "      \n",
        "      # Here grayscale_cam has only one image in the batch\n",
        "      grayscale_cam = grayscale_cam[0, :]\n",
        "\n",
        "      save_path = ''\n",
        "      save_result(grayscale_cam, save_path)\n"
      ],
      "metadata": {
        "id": "mIeUcYkag-j7"
      },
      "execution_count": null,
      "outputs": []
    },
    {
      "cell_type": "markdown",
      "source": [
        "compute SSIM socre"
      ],
      "metadata": {
        "id": "lTUXHH52WvVN"
      }
    },
    {
      "cell_type": "code",
      "source": [
        "base_path = ''  # where individual heatmaps are saved\n",
        "\n",
        "ssim_ls = compute_ssim(args.image_path, base_path) "
      ],
      "metadata": {
        "colab": {
          "base_uri": "https://localhost:8080/",
          "height": 208
        },
        "id": "QzlW3xSBh7QN",
        "outputId": "f4043363-046f-4f23-b11b-2152adb443d3"
      },
      "execution_count": 1,
      "outputs": [
        {
          "output_type": "error",
          "ename": "NameError",
          "evalue": "ignored",
          "traceback": [
            "\u001b[0;31m---------------------------------------------------------------------------\u001b[0m",
            "\u001b[0;31mNameError\u001b[0m                                 Traceback (most recent call last)",
            "\u001b[0;32m<ipython-input-1-b6b9730be886>\u001b[0m in \u001b[0;36m<module>\u001b[0;34m()\u001b[0m\n\u001b[1;32m      1\u001b[0m \u001b[0mbase_path\u001b[0m \u001b[0;34m=\u001b[0m \u001b[0;34m''\u001b[0m  \u001b[0;31m# where individual heatmaps are saved\u001b[0m\u001b[0;34m\u001b[0m\u001b[0;34m\u001b[0m\u001b[0m\n\u001b[1;32m      2\u001b[0m \u001b[0;34m\u001b[0m\u001b[0m\n\u001b[0;32m----> 3\u001b[0;31m \u001b[0mssim_ls\u001b[0m \u001b[0;34m=\u001b[0m \u001b[0mcompute_ssim\u001b[0m\u001b[0;34m(\u001b[0m\u001b[0margs\u001b[0m\u001b[0;34m.\u001b[0m\u001b[0mimage_path\u001b[0m\u001b[0;34m,\u001b[0m \u001b[0mbase_path\u001b[0m\u001b[0;34m)\u001b[0m\u001b[0;34m\u001b[0m\u001b[0;34m\u001b[0m\u001b[0m\n\u001b[0m",
            "\u001b[0;31mNameError\u001b[0m: name 'compute_ssim' is not defined"
          ]
        }
      ]
    },
    {
      "cell_type": "code",
      "source": [
        "plot_ssim(ssim_ls, 'gradCAM', '')"
      ],
      "metadata": {
        "id": "ckeBATv2lo89"
      },
      "execution_count": null,
      "outputs": []
    }
  ],
  "metadata": {
    "colab": {
      "collapsed_sections": [],
      "name": "gradcam_sanityCheck.ipynb의 사본",
      "provenance": []
    },
    "kernelspec": {
      "display_name": "Python 3",
      "name": "python3"
    },
    "language_info": {
      "name": "python"
    },
    "accelerator": "GPU"
  },
  "nbformat": 4,
  "nbformat_minor": 0
}