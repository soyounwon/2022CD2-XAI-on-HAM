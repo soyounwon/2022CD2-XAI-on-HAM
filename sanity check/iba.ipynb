{
  "cells": [
    {
      "cell_type": "code",
      "execution_count": null,
      "metadata": {
        "colab": {
          "base_uri": "https://localhost:8080/"
        },
        "id": "pPiaUPcbtrkD",
        "outputId": "bcd616a8-6665-4452-c701-ff93e97866e0"
      },
      "outputs": [
        {
          "output_type": "stream",
          "name": "stdout",
          "text": [
            "Looking in indexes: https://pypi.org/simple, https://us-python.pkg.dev/colab-wheels/public/simple/\n",
            "Collecting git+https://github.com/BioroboticsLab/IBA\n",
            "  Cloning https://github.com/BioroboticsLab/IBA to /tmp/pip-req-build-pfbdfzgp\n",
            "  Running command git clone -q https://github.com/BioroboticsLab/IBA /tmp/pip-req-build-pfbdfzgp\n",
            "\u001b[31mERROR: Operation cancelled by user\u001b[0m\n"
          ]
        }
      ],
      "source": [
        "# pip install git+https://github.com/BioroboticsLab/IBA"
      ]
    },
    {
      "cell_type": "code",
      "execution_count": null,
      "metadata": {
        "colab": {
          "base_uri": "https://localhost:8080/"
        },
        "id": "Ir4AaamjtWuu",
        "outputId": "4e90bb79-3b6d-4136-ba98-a0b1486fc3dd"
      },
      "outputs": [
        {
          "output_type": "stream",
          "name": "stdout",
          "text": [
            "env: CUDA_VISIBLE_DEVICES=0\n"
          ]
        }
      ],
      "source": [
        "# to set you cuda device\n",
        "%env CUDA_VISIBLE_DEVICES=0\n",
        "\n",
        "%load_ext autoreload\n",
        "%autoreload 2\n",
        "\n",
        "import IBA\n",
        "from IBA.pytorch import IBA, tensor_to_np_img\n",
        "from IBA.utils import plot_saliency_map\n",
        "from IBA.pytorch import IBA, tensor_to_np_img\n",
        "from visualize import *\n",
        "\n",
        "import torch\n",
        "import torchvision.models \n",
        "from torch import nn\n",
        "from torch.utils.data import DataLoader\n",
        "from torchvision.datasets import ImageFolder\n",
        "from torchvision.transforms import Compose, CenterCrop, ToTensor, Resize, Normalize\n",
        "import matplotlib.pyplot as plt\n",
        "import cv2\n",
        "\n",
        "import os\n",
        "from tqdm import tqdm_notebook\n",
        "import json\n",
        "from PIL import Image\n",
        "import numpy as np"
      ]
    },
    {
      "cell_type": "code",
      "execution_count": null,
      "metadata": {
        "id": "FgUXVS6btbyR"
      },
      "outputs": [],
      "source": [
        "imagenet_dir = \"t\"\n",
        "\n",
        "dev = torch.device('cuda:0')\n",
        "\n",
        "model = torchvision.models.vgg16(pretrained=True)\n",
        "model.to(dev).eval()\n",
        "\n",
        "image_size = 224\n",
        "    \n",
        "valset = ImageFolder(\n",
        "    os.path.join(imagenet_dir),\n",
        "    transform=Compose([\n",
        "        CenterCrop(256), Resize(image_size), ToTensor(), \n",
        "        Normalize(mean=[0.485, 0.456, 0.406], std=[0.229, 0.224, 0.225])\n",
        "    ]))\n",
        "\n",
        "trainset = ImageFolder(\n",
        "    os.path.join(imagenet_dir),\n",
        "    transform=Compose([\n",
        "        CenterCrop(256), Resize(image_size), ToTensor(), \n",
        "        Normalize(mean=[0.485, 0.456, 0.406], std=[0.229, 0.224, 0.225])\n",
        "    ]))\n",
        "\n",
        "trainloader = DataLoader(trainset, batch_size=64, shuffle=True, num_workers=1)\n",
        "img, target = valset[0]"
      ]
    },
    {
      "cell_type": "code",
      "execution_count": null,
      "metadata": {
        "id": "0-adiv0L4xIM"
      },
      "outputs": [],
      "source": [
        "imagePath = []\n",
        "targets = [58,222,332,417,429,429,525,549,683,889,990]\n",
        "features_ls = [30,28,26,24,21,19,17,14,12,10,7,5,2,0]\n",
        "\n",
        "untrained = models.vgg16(pretrained=False)"
      ]
    },
    {
      "cell_type": "code",
      "source": [
        "iba = IBA(model.features[17])\n",
        "\n",
        "iba.reset_estimate()\n",
        "iba.estimate(model, trainloader, device=dev, n_samples=10000, progbar=True)"
      ],
      "metadata": {
        "id": "LZMu1Q6OEeGd"
      },
      "execution_count": null,
      "outputs": []
    },
    {
      "cell_type": "code",
      "execution_count": null,
      "metadata": {
        "id": "MJjUcglviRXX"
      },
      "outputs": [],
      "source": [
        "for layer in features_ls:\n",
        "  if layer == 28:\n",
        "      model.classifier = untrained.classifier\n",
        "  if layer < 30:\n",
        "      model.features[layer] = untrained.features[layer]\n",
        "\n",
        "  for i, path in enumerate(imagePath):\n",
        "    img = cv2.imread(path)\n",
        "    target = targets[i]\n",
        "\n",
        "    tts = ToTensor()\n",
        "    input_tensor = tts(img).cuda()\n",
        "    \n",
        "    model = model.cuda()\n",
        "    model_loss_closure = lambda x: -torch.log_softmax(model(x), 1)[:, target].mean()\n",
        "    heatmap = iba.analyze(input_tensor[None].to(dev), model_loss_closure)    \n",
        "\n",
        "    save_path = ''\n",
        "    save_result(heatmap, save_path)"
      ]
    },
    {
      "cell_type": "markdown",
      "source": [
        "compute SSIM score"
      ],
      "metadata": {
        "id": "ocsx3QroidYu"
      }
    },
    {
      "cell_type": "code",
      "source": [
        "base_path = ''\n",
        "\n",
        "ssim_ls = compute_ssim(imagePath, base_path) "
      ],
      "metadata": {
        "id": "i33t_C6mt0nS"
      },
      "execution_count": null,
      "outputs": []
    },
    {
      "cell_type": "code",
      "source": [
        "plot_ssim(ssim_ls, 'IBA', '')"
      ],
      "metadata": {
        "id": "4Gwy3tBIuN51"
      },
      "execution_count": null,
      "outputs": []
    },
    {
      "cell_type": "code",
      "source": [
        "scorePath = '/content/drive/MyDrive/scoreCAM/sanityCheck/'\n",
        "scorecam = compute_ssim(imagePath, scorePath)\n",
        "\n",
        "gradPath = '/content/drive/MyDrive/gradCAM/sanityCheck/'\n",
        "gradcam = compute_ssim(imagePath, gradPath)\n",
        "\n",
        "risePath = '/content/drive/MyDrive/RISE/sanityCheck/'\n",
        "rise = compute_ssim(imagePath, risePath)\n",
        "\n",
        "extPath = '/content/drive/MyDrive/extremal perturbations/sanityCheck/'\n",
        "ext = compute_ssim(imagePath, extPath)"
      ],
      "metadata": {
        "id": "ySIVyrE3D2wV"
      },
      "execution_count": null,
      "outputs": []
    },
    {
      "cell_type": "code",
      "source": [
        "\n",
        "x = ['30','28','26','24','21','19','17','14','12','10','7','5','2','0']\n",
        "labels = ['original', 'conv5-3', 'conv5-2', 'conv5-1', 'conv4-3', 'conv4-2', 'conv4-1', 'conv3-3', 'conv3-2',\n",
        "              'conv3-1', 'conv2-2', 'conv2-1', 'conv1-2', 'conv1-1']\n",
        "dummy = [30 * 13 / 13, 30 * 12 / 13, 30 * 11 / 13, 30 * 10 / 13, 30 * 9 / 13, 30 * 8 / 13, 30 * 7 / 13, 30 * 6 / 13, 30 * 5 / 13, 30 * 4 / 13, 30 * 3 / 13, 30 * 2 / 13, 30 * 1 / 13, 0]\n",
        "\n",
        "mean_ssim = np.array(ssim_ls).mean(axis=0)\n",
        "dummy_np = np.array(dummy)\n",
        "plt.figure(figsize=(9,6))\n",
        "plt.xticks(dummy, labels, rotation=40)\n",
        "plt.yticks([1.0, 0.9, 0.8, 0.7, 0.6])\n",
        "plt.gca().invert_xaxis()\n",
        "plt.plot(dummy_np, np.array(ssim_ls).mean(axis=0), marker='D', label=\"IBA\")\n",
        "plt.plot(dummy_np, np.array(gradcam).mean(axis=0), marker='D', label=\"GradCAM\")\n",
        "plt.plot(dummy_np, np.array(scorecam).mean(axis=0), marker='D', label=\"ScoreCAM\")\n",
        "plt.plot(dummy_np, np.array(rise).mean(axis=0), marker='D', label=\"RISE\")\n",
        "plt.plot(dummy_np, np.array(ext).mean(axis=0), marker='D', label=\"Extremal\\nPerturbation\")\n",
        "plt.title('VGG-16')\n",
        "plt.ylabel('SSIM score')\n",
        "plt.xlabel('features randomized')\n",
        "plt.legend()\n",
        "plt.savefig('/content/drive/MyDrive/sanity_check_whole.jpg', bbox_inches = 'tight')\n",
        "# plt.show()"
      ],
      "metadata": {
        "id": "PKCFuVizEfI2"
      },
      "execution_count": null,
      "outputs": []
    }
  ],
  "metadata": {
    "accelerator": "GPU",
    "colab": {
      "collapsed_sections": [],
      "name": "re_iba.ipynb의 사본의 사본",
      "provenance": []
    },
    "kernelspec": {
      "display_name": "Python 3",
      "name": "python3"
    },
    "language_info": {
      "name": "python"
    }
  },
  "nbformat": 4,
  "nbformat_minor": 0
}