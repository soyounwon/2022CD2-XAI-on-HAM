{
  "nbformat": 4,
  "nbformat_minor": 0,
  "metadata": {
    "colab": {
      "name": "extremal_sanityCheck.ipynb의 사본의 사본",
      "provenance": []
    },
    "kernelspec": {
      "name": "python3",
      "display_name": "Python 3"
    },
    "language_info": {
      "name": "python"
    },
    "accelerator": "GPU"
  },
  "cells": [
    {
      "cell_type": "code",
      "source": [
        "from torchray.attribution.extremal_perturbation import extremal_perturbation, contrastive_reward\n",
        "from torchray.benchmark import get_example_data, plot_example\n",
        "from torchray.utils import get_device, imsc\n",
        "import matplotlib.pyplot as plt\n",
        "import numpy as np\n",
        "import cv2\n",
        "\n",
        "from torchvision import models\n",
        "from torchvision.transforms import ToTensor\n",
        "from visualize import *\n",
        "from PIL import Image\n"
      ],
      "metadata": {
        "id": "MKm185uUmmlb"
      },
      "execution_count": null,
      "outputs": []
    },
    {
      "cell_type": "code",
      "source": [
        "imagePath = []\n",
        "targets = [ 58,222,332,417,429,429,525,549,683,889,990]\n",
        "features_ls = [30,28,26,24,21,19,17,14,12,10,7,5,2,0]\n",
        "untrained = models.vgg16(pretrained=False)"
      ],
      "metadata": {
        "id": "k4uemtJGghKV"
      },
      "execution_count": null,
      "outputs": []
    },
    {
      "cell_type": "code",
      "source": [
        "device = get_device()\n",
        "untrained.to(device)\n",
        "\n",
        "for i, path in enumerate(imagePath):\n",
        "  img = cv2.imread(path)\n",
        "\n",
        "  tts = ToTensor()\n",
        "  input_tensor = tts(img).unsqueeze(0)\n",
        "  target = targets[i]\n",
        "\n",
        "  input_tensor = input_tensor.to(device)\n",
        "\n",
        "  trained = models.vgg16(pretrained=True)\n",
        "  trained.to(device)\n",
        "  for layer in features_ls:\n",
        "    if layer == 28:\n",
        "      model.classifier = untrained.classifier\n",
        "    if layer < 30:\n",
        "      trained.features[layer] = untrained.features[layer]\n",
        "\n",
        "    # Extremal perturbation backprop.\n",
        "    masks_1, _ = extremal_perturbation(\n",
        "        trained, input_tensor, target,\n",
        "        reward_func=contrastive_reward,\n",
        "        debug=True,\n",
        "        areas=[0.05],\n",
        "    )\n",
        "\n",
        "    mask_img = masks_1.squeeze()\n",
        "    mask_img = mask_img.cpu().numpy()\n",
        "\n",
        "    save_path = ''\n",
        "    save_result(mask_img, save_path)"
      ],
      "metadata": {
        "id": "9g7LTY4tgkWY"
      },
      "execution_count": null,
      "outputs": []
    },
    {
      "cell_type": "markdown",
      "source": [
        "compute SSIM score"
      ],
      "metadata": {
        "id": "HOnU352R3Eh0"
      }
    },
    {
      "cell_type": "code",
      "source": [
        "base_path = '/content/drive/MyDrive/extremal perturbations/sanityCheck/'\n",
        "\n",
        "ssim_ls = compute_ssim(imagePath, base_path)"
      ],
      "metadata": {
        "id": "Ze7p_bhY3F0m"
      },
      "execution_count": null,
      "outputs": []
    },
    {
      "cell_type": "code",
      "source": [
        "plot_ssim(ssim_ls, 'Extremal Perturbations', '')"
      ],
      "metadata": {
        "id": "dI3mTeS13LBk"
      },
      "execution_count": null,
      "outputs": []
    }
  ]
}