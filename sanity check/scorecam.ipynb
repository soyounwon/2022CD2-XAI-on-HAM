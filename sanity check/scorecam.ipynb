{
  "nbformat": 4,
  "nbformat_minor": 0,
  "metadata": {
    "colab": {
      "name": "scoreCAM_imagenet_sample_sanityCheck.ipynb의 사본",
      "provenance": [],
      "collapsed_sections": []
    },
    "kernelspec": {
      "name": "python3",
      "display_name": "Python 3"
    },
    "language_info": {
      "name": "python"
    },
    "accelerator": "GPU"
  },
  "cells": [
    {
      "cell_type": "code",
      "source": [
        "import torch\n",
        "import torch.nn.functional as F\n",
        "import torchvision.models as models\n",
        "import matplotlib.pyplot as plt\n",
        "\n",
        "from common_visualize import *\n",
        "from utils import *\n",
        "from cam.scorecam import *\n",
        "from visualize import *\n",
        "\n",
        "from torchvision.transforms import ToTensor\n",
        "import cv2\n",
        "from PIL import Image\n"
      ],
      "metadata": {
        "id": "jPgnJSdzVK0z"
      },
      "execution_count": null,
      "outputs": []
    },
    {
      "cell_type": "code",
      "source": [
        "imagePath = []\n",
        "targets = [58,222,332,417,429,429,525,549,683,889,990]\n",
        "\n",
        "untrained = models.vgg16(pretrained=False)\n",
        "untrained.eval()\n",
        "\n",
        "features_ls = [30,28,26,24,21,19,17,14,12,10,7,5,2,0]"
      ],
      "metadata": {
        "id": "QsyEfYExqjiU"
      },
      "execution_count": null,
      "outputs": []
    },
    {
      "cell_type": "code",
      "source": [
        "for i, path in enumerate(imagePath):\n",
        "  img = cv2.imread(path)\n",
        "\n",
        "  tts = ToTensor()\n",
        "  input_tensor = tts(img).unsqueeze(0)\n",
        "\n",
        "  model = models.vgg16(pretrained=True)\n",
        "  model.eval()\n",
        "  trained_model_dict = dict(type='vgg16', arch=model, layer_name='features_29',input_size=(224, 224))\n",
        "  trained_scorecam = ScoreCAM(trained_model_dict)\n",
        "\n",
        "  for layer in features_ls:\n",
        "    if layer == 28:\n",
        "      model.classifier = untrained.classifier\n",
        "    if layer < 30:\n",
        "      model.features[layer] = untrained.features[layer]\n",
        "      trained_scorecam = ScoreCAM(trained_model_dict)\n",
        "\n",
        "    if torch.cuda.is_available():\n",
        "      input_tensor = input_tensor.cuda()\n",
        "    else:\n",
        "      input_tensor = input_tensor.cpu()\n",
        "    predicted_class = trained(input_tensor).max(1)[-1]\n",
        "\n",
        "    scorecam_map = trained_scorecam(input_tensor)\n",
        "    scorecam_map = scorecam_map.cpu().squeeze()\n",
        "\n",
        "    save_path = ''\n",
        "    save_result(scorecam_map, save_path)"
      ],
      "metadata": {
        "id": "PIddjnTBdu_4"
      },
      "execution_count": null,
      "outputs": []
    },
    {
      "cell_type": "markdown",
      "source": [
        "compute SSIM score"
      ],
      "metadata": {
        "id": "s67kBX5eUliA"
      }
    },
    {
      "cell_type": "code",
      "source": [
        "base_path = ''\n",
        "\n",
        "ssim_ls = compute_ssim(imagePath, base_path)\n"
      ],
      "metadata": {
        "id": "eI7416JtUcV2"
      },
      "execution_count": null,
      "outputs": []
    },
    {
      "cell_type": "code",
      "source": [
        "plot_ssim(ssim_ls, 'ScoreCAM', '')"
      ],
      "metadata": {
        "id": "XIPvgXZ5UpEu"
      },
      "execution_count": null,
      "outputs": []
    }
  ]
}